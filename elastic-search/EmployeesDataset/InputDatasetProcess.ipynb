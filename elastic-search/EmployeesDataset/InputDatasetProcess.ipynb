{
 "cells": [
  {
   "cell_type": "code",
   "execution_count": null,
   "metadata": {},
   "outputs": [],
   "source": [
    "from elasticsearch import Elasticsearch\n",
    "import json\n",
    "from tqdm import tqdm\n",
    "\n",
    "# Define the Elasticsearch server URL\n",
    "es = Elasticsearch([{\"host\": \"localhost\", \"port\": 9200, \"scheme\": \"http\"}])\n",
    "\n",
    "# Define the index and document type\n",
    "index_name = \"exercise\"\n",
    "\n",
    "# Define the mapping for the index\n",
    "index_mapping = {\n",
    "    \"mappings\": {\n",
    "        \"properties\": {\n",
    "            \"FirstName\": {\"type\": \"text\"},\n",
    "            \"LastName\": {\"type\": \"text\"},\n",
    "            \"Designation\": {\"type\": \"text\"},\n",
    "            \"Salary\": {\"type\": \"integer\"},\n",
    "            \"DateOfJoining\": {\"type\": \"date\", \"format\": \"yyyy-MM-dd\"},\n",
    "            \"Address\": {\"type\": \"text\"},\n",
    "            \"Gender\": {\"type\": \"text\"},\n",
    "            \"Age\": {\"type\": \"integer\"},\n",
    "            \"MaritalStatus\": {\"type\": \"text\"},\n",
    "            \"Interests\": {\"type\": \"text\"},\n",
    "        }\n",
    "    }\n",
    "}\n",
    "\n",
    "# delete index if exists\n",
    "# es.indices.delete(index=index_name)\n",
    "# Create the index with mapping\n",
    "es.indices.create(index=index_name, body=index_mapping)\n",
    "\n",
    "\n",
    "file_path = \"Employees50K.json\"\n",
    "count = 0\n",
    "with open(file_path, \"r\") as file:\n",
    "    for line in file:\n",
    "        count += 1\n",
    "        if count % 500 == 0:\n",
    "            print(count)\n",
    "        record = json.loads(line)\n",
    "        es.index(index=index_name, body=record)"
   ]
  },
  {
   "cell_type": "code",
   "execution_count": 23,
   "metadata": {},
   "outputs": [
    {
     "data": {
      "text/plain": [
       "50000"
      ]
     },
     "execution_count": 23,
     "metadata": {},
     "output_type": "execute_result"
    }
   ],
   "source": [
    "document_count = es.count(index=index_name)[\"count\"]\n",
    "document_count"
   ]
  },
  {
   "cell_type": "code",
   "execution_count": 18,
   "metadata": {},
   "outputs": [
    {
     "data": {
      "text/plain": [
       "ObjectApiResponse({'acknowledged': True})"
      ]
     },
     "execution_count": 18,
     "metadata": {},
     "output_type": "execute_result"
    }
   ],
   "source": [
    "es.indices.delete(index=index_name)"
   ]
  },
  {
   "cell_type": "code",
   "execution_count": null,
   "metadata": {},
   "outputs": [],
   "source": [
    "{\n",
    "    \"settings\": {\"number_of_shards\": 10, \"number_of_replicas\": 10},\n",
    "    \"mappings\": {\n",
    "        \"properties\": {\n",
    "            \"Address\": {\"type\": \"text\", \"analyzer\": \"standard\"},\n",
    "            \"Age\": {\"type\": \"integer\"},\n",
    "            \"DateOfJoining\": {\"type\": \"date\"},\n",
    "            \"Designation\": {\"type\": \"text\", \"analyzer\": \"standard\"},\n",
    "            \"FirstName\": {\"type\": \"text\", \"analyzer\": \"standard\"},\n",
    "            \"Gender\": {\"type\": \"text\", \"fields\": {\"keyword\": {\"type\": \"keyword\"}}},\n",
    "            \"Interests\": {\"type\": \"text\", \"analyzer\": \"standard\"},\n",
    "            \"LastName\": {\"type\": \"text\", \"analyzer\": \"standard\"},\n",
    "            \"MaritalStatus\": {\"type\": \"text\"},\n",
    "            \"Salary\": {\"type\": \"integer\"},\n",
    "        }\n",
    "    },\n",
    "}"
   ]
  }
 ],
 "metadata": {
  "kernelspec": {
   "display_name": "base",
   "language": "python",
   "name": "python3"
  },
  "language_info": {
   "codemirror_mode": {
    "name": "ipython",
    "version": 3
   },
   "file_extension": ".py",
   "mimetype": "text/x-python",
   "name": "python",
   "nbconvert_exporter": "python",
   "pygments_lexer": "ipython3",
   "version": "3.11.4"
  }
 },
 "nbformat": 4,
 "nbformat_minor": 2
}
